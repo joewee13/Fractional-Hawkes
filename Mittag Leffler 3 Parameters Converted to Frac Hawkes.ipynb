{
 "cells": [
  {
   "cell_type": "code",
   "execution_count": 1,
   "metadata": {},
   "outputs": [],
   "source": [
    "import numpy as np\n",
    "import math\n",
    "import scipy.integrate as integrate\n",
    "from scipy.integrate import quad\n",
    "import matplotlib.pyplot as plt\n",
    "from sympy import *\n",
    "from scipy.special import gamma\n",
    "from tqdm import tqdm\n",
    "import scipy\n",
    "from scipy.optimize import minimize"
   ]
  },
  {
   "cell_type": "code",
   "execution_count": 2,
   "metadata": {},
   "outputs": [],
   "source": [
    "\"\"\"\n",
    "--------------------------------------------------\n",
    "Package for 3 parameter Mittag Leffler obtained from:\n",
    "https://github.com/khinsen/mittag-leffler\n",
    "------------------------------------------------\n",
    "\"\"\"\n",
    "\n",
    "#LT Inversion for ML\n",
    "\n",
    "def LTInversion(t,lamda,alpha,beta,gama,log_epsilon):\n",
    "    # Evaluation of the relevant poles\n",
    "    theta = np.angle(lamda)\n",
    "    kmin = np.ceil(-alpha/2. - theta/2./np.pi)\n",
    "    kmax = np.floor(alpha/2. - theta/2./np.pi)\n",
    "    k_vett = np.arange(kmin, kmax+1)\n",
    "    s_star = np.abs(lamda)**(1./alpha) * np.exp(1j*(theta+2*k_vett*np.pi)/alpha)\n",
    "\n",
    "    # Evaluation of phi(s_star) for each pole\n",
    "    phi_s_star = (np.real(s_star)+np.abs(s_star))/2\n",
    "\n",
    "    # Sorting of the poles according to the value of phi(s_star)\n",
    "    index_s_star = np.argsort(phi_s_star)\n",
    "    phi_s_star = phi_s_star.take(index_s_star)\n",
    "    s_star = s_star.take(index_s_star)\n",
    "\n",
    "    # Deleting possible poles with phi_s_star=0\n",
    "    index_save = phi_s_star > 1.0e-15\n",
    "    s_star = s_star.repeat(index_save)\n",
    "    phi_s_star = phi_s_star.repeat(index_save)\n",
    "\n",
    "    # Inserting the origin in the set of the singularities\n",
    "    s_star = np.hstack([[0], s_star])\n",
    "    phi_s_star = np.hstack([[0], phi_s_star])\n",
    "    J1 = len(s_star)\n",
    "    J = J1 - 1\n",
    "\n",
    "    # Strength of the singularities\n",
    "    p = gama*np.ones((J1,), np.float)\n",
    "    p[0] = max(0,-2*(alpha*gama-beta+1))\n",
    "    q = gama*np.ones((J1,), np.float)\n",
    "    q[-1] = np.inf\n",
    "    phi_s_star = np.hstack([phi_s_star, [np.inf]])\n",
    "\n",
    "    # Looking for the admissible regions with respect to round-off errors\n",
    "    admissible_regions = \\\n",
    "       np.nonzero(np.bitwise_and(\n",
    "           (phi_s_star[:-1] < (log_epsilon - np.log(np.finfo(np.float64).eps))/t),\n",
    "           (phi_s_star[:-1] < phi_s_star[1:])))[0]\n",
    "    # Initializing vectors for optimal parameters\n",
    "    JJ1 = admissible_regions[-1]\n",
    "    mu_vett = np.ones((JJ1+1,), np.float)*np.inf\n",
    "    N_vett = np.ones((JJ1+1,), np.float)*np.inf\n",
    "    h_vett = np.ones((JJ1+1,), np.float)*np.inf\n",
    "\n",
    "    # Evaluation of parameters for inversion of LT in each admissible region\n",
    "    find_region = False\n",
    "    while not find_region:\n",
    "        for j1 in admissible_regions:\n",
    "            if j1 < J1-1:\n",
    "                muj, hj, Nj = OptimalParam_RB(t, phi_s_star[j1], phi_s_star[j1+1], p[j1], q[j1], log_epsilon)\n",
    "            else:\n",
    "                muj, hj, Nj = OptimalParam_RU(t, phi_s_star[j1], p[j1], log_epsilon)\n",
    "            mu_vett[j1] = muj\n",
    "            h_vett[j1] = hj\n",
    "            N_vett[j1] = Nj\n",
    "        if N_vett.min() > 200:\n",
    "            log_epsilon = log_epsilon + np.log(10)\n",
    "        else:\n",
    "            find_region = True\n",
    "\n",
    "    # Selection of the admissible region for integration which\n",
    "    # involves the minimum number of nodes\n",
    "    iN = np.argmin(N_vett)\n",
    "    N = N_vett[iN]\n",
    "    mu = mu_vett[iN]\n",
    "    h = h_vett[iN]\n",
    "\n",
    "    # Evaluation of the inverse Laplace transform\n",
    "    k = np.arange(-N, N+1)\n",
    "    u = h*k\n",
    "    z = mu*(1j*u+1.)**2\n",
    "    zd = -2.*mu*u + 2j*mu\n",
    "    zexp = np.exp(z*t)\n",
    "    F = z**(alpha*gama-beta)/(z**alpha - lamda)**gama*zd\n",
    "    S = zexp*F ;\n",
    "    Integral = h*np.sum(S)/2./np.pi/1j\n",
    "\n",
    "    # Evaluation of residues\n",
    "    ss_star = s_star[iN+1:]\n",
    "    Residues = np.sum(1./alpha*(ss_star)**(1-beta)*np.exp(t*ss_star))\n",
    "\n",
    "    # Evaluation of the ML function\n",
    "    E = Integral + Residues\n",
    "    if np.imag(lamda) == 0.:\n",
    "        E = np.real(E)\n",
    "    return E\n",
    "\n",
    "# =========================================================================\n",
    "# Finding optimal parameters in a right-bounded region\n",
    "# =========================================================================\n",
    "def OptimalParam_RB(t, phi_s_star_j, phi_s_star_j1, pj, qj, log_epsilon):\n",
    "    # Definition of some constants\n",
    "    log_eps = -36.043653389117154 # log(eps)\n",
    "    fac = 1.01\n",
    "    conservative_error_analysis = False\n",
    "\n",
    "    # Maximum value of fbar as the ration between tolerance and round-off unit\n",
    "    f_max = np.exp(log_epsilon - log_eps)\n",
    "\n",
    "    # Evaluation of the starting values for sq_phi_star_j and sq_phi_star_j1\n",
    "    sq_phi_star_j = np.sqrt(phi_s_star_j)\n",
    "    threshold = 2.*np.sqrt((log_epsilon - log_eps)/t)\n",
    "    sq_phi_star_j1 = min(np.sqrt(phi_s_star_j1), threshold - sq_phi_star_j)\n",
    "\n",
    "    # Zero or negative values of pj and qj\n",
    "    if pj < 1.0e-14 and qj < 1.0e-14:\n",
    "        sq_phibar_star_j = sq_phi_star_j\n",
    "        sq_phibar_star_j1 = sq_phi_star_j1\n",
    "        adm_region = 1\n",
    "\n",
    "    # Zero or negative values of just pj\n",
    "    if pj < 1.0e-14 and qj >= 1.0e-14:\n",
    "        sq_phibar_star_j = sq_phi_star_j\n",
    "        if sq_phi_star_j > 0:\n",
    "            f_min = fac*(sq_phi_star_j/(sq_phi_star_j1-sq_phi_star_j))**qj\n",
    "        else:\n",
    "            f_min = fac\n",
    "        if f_min < f_max:\n",
    "            f_bar = f_min + f_min/f_max*(f_max-f_min)\n",
    "            fq = f_bar**(-1/qj)\n",
    "            sq_phibar_star_j1 = (2*sq_phi_star_j1-fq*sq_phi_star_j)/(2+fq)\n",
    "            adm_region = True\n",
    "        else:\n",
    "            adm_region = False\n",
    "\n",
    "    # Zero or negative values of just qj\n",
    "    if pj >= 1.0e-14 and qj < 1.0e-14:\n",
    "        sq_phibar_star_j1 = sq_phi_star_j1\n",
    "        f_min = fac*(sq_phi_star_j1/(sq_phi_star_j1-sq_phi_star_j))**pj\n",
    "        if f_min < f_max:\n",
    "            f_bar = f_min + f_min/f_max*(f_max-f_min)\n",
    "            fp = f_bar**(-1./pj)\n",
    "            sq_phibar_star_j = (2.*sq_phi_star_j+fp*sq_phi_star_j1)/(2-fp)\n",
    "            adm_region = True\n",
    "        else:\n",
    "            adm_region = False\n",
    "\n",
    "    # Positive values of both pj and qj\n",
    "    if pj >= 1.0e-14 and qj >= 1.0e-14:\n",
    "        f_min = fac*(sq_phi_star_j+sq_phi_star_j1) / \\\n",
    "                (sq_phi_star_j1-sq_phi_star_j)**max(pj, qj)\n",
    "        if f_min < f_max:\n",
    "            f_min = max(f_min,1.5)\n",
    "            f_bar = f_min + f_min/f_max*(f_max-f_min)\n",
    "            fp = f_bar**(-1/pj)\n",
    "            fq = f_bar**(-1/qj)\n",
    "            if ~conservative_error_analysis:\n",
    "                w = -phi_s_star_j1*t/log_epsilon\n",
    "            else:\n",
    "                w = -2.*phi_s_star_j1*t/(log_epsilon-phi_s_star_j1*t)\n",
    "            den = 2+w - (1+w)*fp + fq\n",
    "            sq_phibar_star_j = ((2+w+fq)*sq_phi_star_j + fp*sq_phi_star_j1)/den\n",
    "            sq_phibar_star_j1 = (-(1.+w)*fq*sq_phi_star_j + (2.+w-(1.+w)*fp)*sq_phi_star_j1)/den\n",
    "            adm_region = True\n",
    "        else:\n",
    "            adm_region = False\n",
    "\n",
    "    if adm_region:\n",
    "        log_epsilon = log_epsilon  - np.log(f_bar)\n",
    "        if not conservative_error_analysis:\n",
    "            w = -sq_phibar_star_j1**2*t/log_epsilon\n",
    "        else:\n",
    "            w = -2.*sq_phibar_star_j1**2*t/(log_epsilon-sq_phibar_star_j1**2*t)\n",
    "        muj = (((1.+w)*sq_phibar_star_j + sq_phibar_star_j1)/(2.+w))**2\n",
    "        hj = -2.*np.pi/log_epsilon*(sq_phibar_star_j1-sq_phibar_star_j) \\\n",
    "             / ((1.+w)*sq_phibar_star_j + sq_phibar_star_j1)\n",
    "        Nj = np.ceil(np.sqrt(1-log_epsilon/t/muj)/hj)\n",
    "    else:\n",
    "        muj = 0.\n",
    "        hj = 0.\n",
    "        Nj = np.inf\n",
    "\n",
    "    return muj, hj, Nj"
   ]
  },
  {
   "cell_type": "code",
   "execution_count": 3,
   "metadata": {},
   "outputs": [],
   "source": [
    "#Optimal Param for ML\n",
    "def OptimalParam_RU(t, phi_s_star_j, pj, log_epsilon):\n",
    "    # Evaluation of the starting values for sq_phi_star_j\n",
    "    sq_phi_s_star_j = np.sqrt(phi_s_star_j)\n",
    "    if phi_s_star_j > 0:\n",
    "        phibar_star_j = phi_s_star_j*1.01\n",
    "    else:\n",
    "        phibar_star_j = 0.01\n",
    "    sq_phibar_star_j = np.sqrt(phibar_star_j)\n",
    "\n",
    "    # Definition of some constants\n",
    "    f_min = 1\n",
    "    f_max = 10\n",
    "    f_tar = 5\n",
    "\n",
    "    # Iterative process to look for fbar in [f_min,f_max]\n",
    "    while True:\n",
    "        phi_t = phibar_star_j*t\n",
    "        log_eps_phi_t = log_epsilon/phi_t\n",
    "        Nj = np.ceil(phi_t/np.pi*(1. - 3*log_eps_phi_t/2 + np.sqrt(1-2*log_eps_phi_t)))\n",
    "        A = np.pi*Nj/phi_t\n",
    "        sq_muj = sq_phibar_star_j*np.abs(4-A)/np.abs(7-np.sqrt(1+12*A))\n",
    "        fbar = ((sq_phibar_star_j-sq_phi_s_star_j)/sq_muj)**(-pj)\n",
    "        if (pj < 1.0e-14) or (f_min < fbar and fbar < f_max):\n",
    "            break\n",
    "        sq_phibar_star_j = f_tar**(-1./pj)*sq_muj + sq_phi_s_star_j\n",
    "        phibar_star_j = sq_phibar_star_j**2\n",
    "    muj = sq_muj**2\n",
    "    hj = (-3*A - 2 + 2*np.sqrt(1+12*A))/(4-A)/Nj\n",
    "    \n",
    "    # Adjusting integration parameters to keep round-off errors under control\n",
    "    log_eps = np.log(np.finfo(np.float64).eps)\n",
    "    threshold = (log_epsilon - log_eps)/t\n",
    "    if muj > threshold:\n",
    "        if abs(pj) < 1.0e-14:\n",
    "            Q = 0\n",
    "        else:\n",
    "            Q = f_tar**(-1/pj)*np.sqrt(muj)\n",
    "        phibar_star_j = (Q + np.sqrt(phi_s_star_j))**2\n",
    "        if phibar_star_j < threshold:\n",
    "            w = np.sqrt(log_eps/(log_eps-log_epsilon))\n",
    "            u = np.sqrt(-phibar_star_j*t/log_eps)\n",
    "            muj = threshold\n",
    "            Nj = np.ceil(w*log_epsilon/2/np.pi/(u*w-1))\n",
    "            hj = np.sqrt(log_eps/(log_eps - log_epsilon))/Nj\n",
    "        else:\n",
    "            Nj = np.inf\n",
    "            hj = 0\n",
    "\n",
    "    return muj, hj, Nj"
   ]
  },
  {
   "cell_type": "markdown",
   "metadata": {},
   "source": [
    "## 3 Parameter Mittag-Leffler\n",
    "\n",
    "\\begin{align}\n",
    "E^\\gamma_{\\alpha,\\beta} (z) = \\frac{1}{\\Gamma(\\gamma)} \\sum^\\infty_{k=0} \\frac{\\Gamma(\\gamma + k) z^k}{k! \\Gamma (\\alpha k + \\beta)}\n",
    "\\end{align}"
   ]
  },
  {
   "cell_type": "code",
   "execution_count": 4,
   "metadata": {},
   "outputs": [],
   "source": [
    "#Mittag Leffler \n",
    "\n",
    "def ml(z, alpha, beta=1., gama=1.):\n",
    "    '''\n",
    "3 Parameter Mittag Leffler Function\n",
    "   ---------------------\n",
    "The Mittag Leffler with 3 parameters:\n",
    "z : float\n",
    "z value is the convergence.\n",
    "Parameters\n",
    "alpha : float\n",
    "beta : float\n",
    "gama : float\n",
    "---------------------\n",
    "    Can be changed into 1 or 2 parameters by setting beta and gamma = 1\n",
    "    2 parameters, gama = 1\n",
    "    1 parameter , beta = 1, gama = 1\n",
    "    '''\n",
    "    eps = np.finfo(np.float64).eps\n",
    "    if np.real(alpha) <= 0 or np.real(gama) <= 0 or np.imag(alpha) != 0. \\\n",
    "       or np.imag(beta) != 0. or np.imag(gama) != 0.:\n",
    "        raise ValueError('ALPHA and GAMA must be real and positive. BETA must be real.')\n",
    "    if np.abs(gama-1.) > eps:\n",
    "        if alpha > 1.:\n",
    "            raise ValueError('GAMMA != 1 requires 0 < ALPHA < 1')\n",
    "        if (np.abs(np.angle(np.repeat(z, np.abs(z) > eps))) <= alpha*np.pi).any():\n",
    "            raise ValueError('|Arg(z)| <= alpha*pi')\n",
    "\n",
    "    return np.vectorize(ml_, [np.float64])(z, alpha, beta, gama)\n",
    "\n",
    "def ml_(z, alpha, beta, gama):\n",
    "    # Target precision \n",
    "    log_epsilon = np.log(1.e-15)\n",
    "    # Inversion of the LT\n",
    "    if np.abs(z) < 1.e-15:\n",
    "        return 1/gamma(beta)\n",
    "    else:\n",
    "        return LTInversion(1, z, alpha, beta, gama, log_epsilon)"
   ]
  },
  {
   "cell_type": "markdown",
   "metadata": {},
   "source": [
    "## One parameter Mittag-Leffler \n",
    "\n",
    "\\begin{align}\n",
    "E_{\\gamma,\\delta} (z) = \\sum^\\infty_{n=0} \\frac{z^n}{\\Gamma (n\\alpha + 1)}\n",
    "\\end{align}\n",
    "\n",
    "## Two Parameter Mittag-Leffler\n",
    "\\begin{align}\n",
    "E_{\\gamma,\\delta} (z) = \\sum^\\infty_{n=0} \\frac{z^n}{\\Gamma (n\\alpha + \\beta)}\n",
    "\\end{align}\n"
   ]
  },
  {
   "cell_type": "markdown",
   "metadata": {},
   "source": [
    "## Relationship between ML Functions\n",
    "\n",
    "$$E^1_{\\alpha,\\beta} = E_{\\alpha,\\beta} (z) $$\n",
    "$$E_{\\alpha,1}(z) = E_{\\alpha}(z)$$ \n",
    "\n",
    "For any $\\alpha , \\beta, \\gamma$, with $\\alpha$ and $\\gamma$ being real and $\\beta$ being real and positive.\n",
    "\\begin{align}\n",
    "    E^\\gamma_{\\alpha,\\beta} = \\frac{1}{\\Gamma (\\gamma)} D_z^{\\gamma-1} \\left[ z^{\\gamma-1} E_{\\alpha,\\beta}(z) \\right]\n",
    "\\end{align}"
   ]
  },
  {
   "cell_type": "markdown",
   "metadata": {},
   "source": [
    "## $F_\\beta (t)$ for Fractional Hawkes\n",
    "For Fractional Hawkes, we will start with the 3 parameter ML and set:\n",
    "\n",
    "$\\alpha = \\beta , \\beta = \\beta , \\gamma = 1$\n",
    "\n",
    "\\begin{align}\n",
    "E^\\gamma_{\\alpha,\\beta} (z) = \\frac{1}{\\Gamma(\\gamma)} \\sum^\\infty_{k=0} \\frac{\\Gamma(\\gamma + k) z^k}{k! \\Gamma (\\alpha k + \\beta)} \\\\\n",
    "f_\\beta (t) = \\frac{dE_\\beta (-t^\\beta)}{dt} = t^{\\beta-1} E_{\\beta,\\beta} (-t^\\beta)\n",
    "\\end{align}\n",
    "\n",
    "## General form of $f_\\beta(t)$\n",
    "\\begin{align}\n",
    "f_\\beta(t) &= t^{\\beta-1} E_{\\beta,\\beta}^1 (-t^\\beta) \\\\\n",
    "&= t^{\\beta-1} \\sum^\\infty_{n=0} \\frac{{-t^\\beta}^n}{\\Gamma(n\\beta + \\beta)} \\\\\n",
    "&= \\frac{t^{\\beta-1}}{\\Gamma(\\beta)} - \\frac{t^2\\beta -1}{\\Gamma(2 \\beta)}\n",
    "\\end{align}\n",
    "\n",
    "We have that $(0 < \\beta < 1$) and $E_{\\beta,\\beta} (- t^\\beta) = \\sum_{n=0}^\\infty \\frac{(-1)^n t^{\\beta n}}{\\Gamma(n \\beta + \\beta)}$.\n",
    "\n",
    "The first two terms in the expansion are ($n=0$ and $n=1$) therefore:\n",
    "$\\frac{1}{\\Gamma(\\beta)} - \\frac{t^\\beta}{\\Gamma(2 \\beta)}$\n",
    "\n",
    "if you multiply by $t^{\\beta - 1}$ you get $\\frac{t^{\\beta-1}}{\\Gamma(\\beta)} - \\frac{t^2\\beta -1}{\\Gamma(2 \\beta)}$\n",
    "if you send $t$ to $0$, the first term diverges, whereas the second one goes to $0$ (and all the other terms in the series expansion vanish).\n",
    "\n"
   ]
  },
  {
   "cell_type": "code",
   "execution_count": 5,
   "metadata": {},
   "outputs": [],
   "source": [
    "#f_beta function\n",
    "def f_betaml(beta, t):\n",
    "    ''' ml(z, alpha, beta, gama)'''\n",
    "    return t**(beta-1) * ml(-t**beta, beta, beta, 1)"
   ]
  },
  {
   "cell_type": "code",
   "execution_count": 6,
   "metadata": {},
   "outputs": [
    {
     "name": "stdout",
     "output_type": "stream",
     "text": [
      "[0.21039334638902382, 0.0886936584628374, 0.04862434271845458, 0.0305522631800429, 0.02092996378708683, 0.015227600531481068, 0.011581366219158614, 0.009112861981623713, 0.007365538176356337, 0.006083694408277395]\n"
     ]
    }
   ],
   "source": [
    "\"\"\"\n",
    "F_beta function\n",
    "   --------\n",
    "resml : array to keep results\n",
    "t must be an int starting > 0, as z cannot be -t**0\n",
    "f_betaml(z, beta, t, gama)\n",
    "Parameters:\n",
    "z = float (-t**beta)\n",
    "beta = float(decay)\n",
    "-----------\n",
    "\"\"\"\n",
    "resml = []\n",
    "\n",
    "for t in range (1,11):\n",
    "    s = f_betaml( 0.7, t)\n",
    "    resml.append(s)\n",
    "print (resml)"
   ]
  },
  {
   "cell_type": "code",
   "execution_count": 7,
   "metadata": {
    "scrolled": true
   },
   "outputs": [
    {
     "data": {
      "text/plain": [
       "Text(0, 0.5, 'Cumulative Integral Value')"
      ]
     },
     "execution_count": 7,
     "metadata": {},
     "output_type": "execute_result"
    },
    {
     "data": {
      "image/png": "[encoded data removed]",
      "text/plain": [
       "<Figure size 1008x360 with 2 Axes>"
      ]
     },
     "metadata": {
      "needs_background": "light"
     },
     "output_type": "display_data"
    }
   ],
   "source": [
    "#Plot\n",
    "fig, axes = plt.subplots(1, 2, figsize=(14, 5))\n",
    "axes[0].plot(range(t), resml)\n",
    "axes[0].set_title('Integral values as time t progresses at each t')\n",
    "axes[0].set_xlabel('Time (t)')\n",
    "axes[0].set_ylabel('Integral Value')\n",
    "\n",
    "axes[1].plot(range(t), np.cumsum(resml))\n",
    "axes[1].set_title('Integral value as t progresses (cumulative)')\n",
    "axes[1].set_xlabel('Time (t)')\n",
    "axes[1].set_ylabel('Cumulative Integral Value')"
   ]
  },
  {
   "cell_type": "markdown",
   "metadata": {},
   "source": [
    "## Conditional Intensity Function\n",
    "\\begin{align}\n",
    "\\lambda_t &= \\lambda_0 + \\alpha \\sum f_\\beta(t-t_i) \\\\\n",
    "&= \\mu +\\alpha \\sum f_\\beta(t-u)\n",
    "\\end{align}"
   ]
  },
  {
   "cell_type": "code",
   "execution_count": 8,
   "metadata": {},
   "outputs": [],
   "source": [
    "#The Lambda Max for Fractional Hawkes\n",
    "\n",
    "def cih_elapsed(mat, jt, a, beta, alpha):\n",
    "    '''\n",
    "Conditional Intensity Fuction for Hawkes.\n",
    "    \n",
    "    Parameters\n",
    "    ----------\n",
    "    mat: int/float (maximum time)\n",
    "    jt: Jump time counter\n",
    "    a: int (constant reversion level, >0, lambda at t = 0)\n",
    "    beta: float (decay, >0)\n",
    "    alpha: int(excitation)\n",
    "    z: float(z value)\n",
    "    gama: float(Gamma)\n",
    "\n",
    "    Lambda_t = lambda + alpha* sum (f_beta(t-ti))\n",
    "    Returns Lambda of Hawkes\n",
    "    ----------\n",
    "    '''\n",
    "    lambda_hawkes = a\n",
    "    jt = np.array(jt)\n",
    "    \n",
    "    if len(jt)>0:\n",
    "        jt = jt[jt<mat]\n",
    "        lambda_hawkes = lambda_hawkes + alpha*np.sum(f_betaml(beta, mat-jt))\n",
    "        \n",
    "    return(lambda_hawkes)"
   ]
  },
  {
   "cell_type": "markdown",
   "metadata": {},
   "source": [
    "## Simulating Fractional Hawkes \n",
    "--------------------------\n",
    "1. Set initial time, $t=0$ and final time as mat:float\n",
    "2. Compute lambda_max for some small value of $e$ (t+some small value, in this case $(1e-12$)\n",
    "3. Generate a positive exponentially distributed random variable E with the meaning of a\n",
    "waiting time, with rate 1/lambda_max.\n",
    "4. Set t = t+R\n",
    "5. Generate random uniform $U2 [0, 1]$\n",
    "6.If U2 < conditional intensity/ lambda_max, set $ti+1 = t$ and update time to $t = t+R$, otherwise, just set\n",
    "$t = t+R$.\n",
    "7. Return to step 2 until $t$ exceeds mat.\n",
    "8. Return the set of event times (or epochs) $ti$\n",
    "-------------------------"
   ]
  },
  {
   "cell_type": "code",
   "execution_count": 9,
   "metadata": {},
   "outputs": [],
   "source": [
    "#Exponential Kernel Hawkes\n",
    "\n",
    "def simFracHawkes_elapsed(mat , a, beta, alpha):\n",
    "    '''\n",
    "Ogata's Thinning Method, p(x) = Conditional intensity func/lambda max\n",
    "    '''\n",
    "    t = 0\n",
    "    jt = np.array([])\n",
    "    \n",
    "    while t < mat:\n",
    "        lambda_max = cih_elapsed(t+1e-12, jt, a, beta, alpha)\n",
    "        R = np.random.exponential(1/lambda_max)\n",
    "        U2 = np.random.uniform(0,1)\n",
    "        \n",
    "        if U2 > cih_elapsed(t+R, jt, a, beta, alpha) / lambda_max:\n",
    "            t = t+R ## reject and move that t is t+R so that lambda_max is then calculated on this\n",
    "            \n",
    "        else:\n",
    "            t = t+R\n",
    "            jt = np.append(jt, t)\n",
    "            \n",
    "    return jt[jt<mat]\n",
    "                    "
   ]
  },
  {
   "cell_type": "code",
   "execution_count": 10,
   "metadata": {},
   "outputs": [],
   "source": [
    "def plotIntensity(mat, a, beta, alpha):\n",
    "    '''\n",
    "    Plots the Hawkes Intensity Function (for constant excitations).\n",
    "    \n",
    "    Parameters\n",
    "    ----------\n",
    "    mat: int/float (maximum time)\n",
    "    a: int (constant reversion level / lambda at t = 0)\n",
    "    beta: float (decay)\n",
    "    alpha: int(excitation) not the alpha for ML as we have set it to be a 1 parameter (beta)\n",
    "    z: float(z value)\n",
    "    gama: float(Gamma)\n",
    "\n",
    "    ----------\n",
    "\n",
    "    '''\n",
    "   \n",
    "    rjt = simFracHawkes_elapsed(mat, a, beta, alpha)\n",
    "    timeline = np.linspace(0,mat,1000)\n",
    "    fig, ax = plt.subplots(figsize=(10,8))\n",
    "    \n",
    "## lambda values for all t, including jump times\n",
    "    lambda_values = []\n",
    "    for j in timeline:\n",
    "        lambda_values=np.append(lambda_values, cih_elapsed(j, rjt, a, beta, alpha)) \n",
    "\n",
    "                                                           \n",
    "## lambda values at jump times [left limits]\n",
    "    lambda_values2 = []\n",
    "    for j in rjt:\n",
    "        lambda_values2 = np.append(lambda_values2,cih_elapsed(j, rjt, a,beta, alpha))\n",
    "                                                              \n",
    "## lambda values at jump times [left limits] (Supposedly j+0.001 but it looks better with j+0.005)\n",
    "    lambda_values3 = []\n",
    "    for j in rjt:\n",
    "        lambda_values3 = np.append(lambda_values3,cih_elapsed(j+0.005, rjt, a, beta, alpha))\n",
    "                                                              \n",
    "## plot the intensity as a function of time\n",
    "    ax.plot(timeline,lambda_values,color='blue',linewidth=0.5)\n",
    "## plot the jump times\n",
    "    ax.plot(rjt, [0.45]*len(rjt), '|', color='red')\n",
    "                                                              \n",
    "## plot left limits\n",
    "    ax.plot(rjt, lambda_values2, 'bo',fillstyle='none',markersize=3,color='black')\n",
    "                                                              \n",
    "## plot right limits\n",
    "    ax.plot(rjt, lambda_values3, 'bo',fillstyle='full',markersize=3,color='black')\n",
    "    ax.set_title('Fractional Hawkes intensity process with constant excitations')\n",
    "    ax.set_xlabel('Time $t$')\n",
    "    ax.set_ylabel('Intensity $\\lambda_t$')\n",
    "    fig.tight_layout()\n",
    "    plt.show()"
   ]
  },
  {
   "cell_type": "code",
   "execution_count": 11,
   "metadata": {},
   "outputs": [
    {
     "data": {
      "image/png": "[encoded data removed]",
      "text/plain": [
       "<Figure size 720x576 with 1 Axes>"
      ]
     },
     "metadata": {
      "needs_background": "light"
     },
     "output_type": "display_data"
    }
   ],
   "source": [
    "# plotIntensity(mat,a,beta,alpha)\n",
    "'''\n",
    "Parameters for Plotting Intensity Function\n",
    "-----------------------------------------\n",
    "mat: float (Max time/T)\n",
    "a: float (constant reversion level) \n",
    "beta: float(decay), conditions: beta < 1\n",
    "alpha: float(excitation), conditions: alpha < 1\n",
    "z: -t**beta\n",
    "-------------------------------------\n",
    "It will plot the kernel intensity process with constant excitations\n",
    "'''\n",
    "\n",
    "plotIntensity(20, 1, 0.9, 0.9)"
   ]
  },
  {
   "cell_type": "markdown",
   "metadata": {},
   "source": [
    "## Theoretical Mean of Fractional Hawkes\n",
    "\n",
    "\\begin{align}\n",
    "E[\\lambda_t] = \n",
    "\\end{align}"
   ]
  },
  {
   "cell_type": "code",
   "execution_count": 12,
   "metadata": {},
   "outputs": [],
   "source": [
    "def theoryMeanIntensity(param, mat):\n",
    "    '''\n",
    "-------------------------------------------------------\n",
    "In Process of derivation!\n",
    "------------------------------------------------------\n",
    "\n",
    "'''\n",
    "    a = param[0]\n",
    "    beta = param[1]\n",
    "    alpha = param[2]\n",
    "\n",
    "    lambda_hawkes =   a + np.sum(f_betaml(beta, t) )\n",
    "    return lambda_hawkes "
   ]
  },
  {
   "cell_type": "code",
   "execution_count": 13,
   "metadata": {},
   "outputs": [],
   "source": [
    "def empMeanHawkes(param, mat, num_path):\n",
    "    '''\n",
    "Calculate Empirical Mean of Fractional Hawkes\n",
    "-------------------------------------------------------\n",
    "E[Nt] = Mean of Simulated Fractional Hawkes\n",
    "\n",
    "simFracHawkes_elapsed(mat, a, beta, alpha, z)\n",
    "------------------------------------------------------\n",
    "'''\n",
    "    a = param[0]\n",
    "    beta = param[1]\n",
    "    alpha = param[2]\n",
    "    \n",
    "    path_numjt = np.zeros((num_path,1))\n",
    "    \n",
    "    for i in tqdm(range(0, num_path)):\n",
    "        \n",
    "        tmp = simFracHawkes_elapsed(mat, a, beta, alpha)\n",
    "        \n",
    "        if len(tmp)==0:\n",
    "            path_numjt[i, 0]=0\n",
    "        \n",
    "        else:\n",
    "            path_numjt[i, 0]=len(tmp)\n",
    "    return np.mean(path_numjt)"
   ]
  },
  {
   "cell_type": "code",
   "execution_count": 15,
   "metadata": {},
   "outputs": [
    {
     "name": "stdout",
     "output_type": "stream",
     "text": [
      "Theory and Empircal must match\n",
      "Theory still in derivation\n",
      "Theory Mean Hawkes : 1.0060836944082774\n"
     ]
    },
    {
     "name": "stderr",
     "output_type": "stream",
     "text": [
      "100%|████████████████████████████████████████████████████████████████████████████████████████████████████████████████████████████████████████████████████████████| 100/100 [01:08<00:00,  1.47it/s]\n"
     ]
    },
    {
     "name": "stdout",
     "output_type": "stream",
     "text": [
      "Empirical Mean Hawkes : 33.93\n"
     ]
    }
   ],
   "source": [
    "'''\n",
    "Ground Truth Check\n",
    "------------------------------------------------------------------------\n",
    "Theoractical Mean of Fractional Hawkes must be close to Empirical Mean\n",
    "Parameters:\n",
    "a : float (lambda at t=0)\n",
    "beta : float (decay)\n",
    "alpha : float (excitation)\n",
    "z : float (-t**beta)\n",
    "------------------------------------------------------------------------\n",
    "'''\n",
    "print(\"Theory and Empircal must match\")\n",
    "print(\"Theory still in derivation\")\n",
    "print(\"Theory Mean Hawkes :\", theoryMeanIntensity([1, 0.7, 0.9], 100))\n",
    "\n",
    "print(\"Empirical Mean Hawkes :\", empMeanHawkes([1, 0.7, 0.9], 10, 100))"
   ]
  },
  {
   "cell_type": "code",
   "execution_count": 16,
   "metadata": {},
   "outputs": [],
   "source": [
    "### Maximum likelihood estimation for exponential Hawkes\n",
    "### This is the delicate function within the log likelihood for Hawkes\n",
    "def inner_ll(z, jt, mu, alpha, beta):\n",
    "    '''mu = lambda at  t=0'''\n",
    "    mu=0\n",
    "    jt = np.array(jt)\n",
    "    \n",
    "    inner = mu + alpha * np.sum( f_betaml(beta, jt[z]-jt[0:z]) )\n",
    "    return(inner)\n",
    "\n"
   ]
  },
  {
   "cell_type": "markdown",
   "metadata": {},
   "source": [
    "## Log-Likelihood of Fractional Hawkes:\n",
    "\n",
    "\n",
    "\\begin{align}\n",
    "\\ell = \\sum^{N_T}_{i=1} ln (\\lambda (t_i)) - \\Lambda(T) \n",
    "\\end{align}\n",
    "\n"
   ]
  },
  {
   "cell_type": "code",
   "execution_count": 17,
   "metadata": {},
   "outputs": [],
   "source": [
    "def loglikHawkes(theta, *args):\n",
    "    '''Set the parameters to recover from minimize using theta[i]'''\n",
    "    mat = args[0]\n",
    "    jt = args[1]\n",
    "    mu = theta[0]\n",
    "    beta = theta[1]\n",
    "    alpha = theta[2]\n",
    "    \n",
    "    #Start from 0\n",
    "    loglik = 0\n",
    "    for z in range (1, len(jt)):\n",
    "        loglik += np.sum( np.log( inner_ll(z, jt, mu, alpha, beta) ) - cih_elapsed(mat, jt, a, beta, alpha) )\n",
    "    \n",
    "    return -loglik\n",
    "\n",
    "#Classical Hawkes\n",
    "# first_term = - mu*mat\n",
    "# second_term = - 1/delta * alpha * sum(1-np.exp(-delta*(mat-jt)))\n",
    "#for z in range(1,len(jt))]\n",
    "# third_term = + np.sum([np.log( inner_ll(z,jt,mu,alpha,delta) ) "
   ]
  },
  {
   "cell_type": "code",
   "execution_count": 18,
   "metadata": {},
   "outputs": [
    {
     "data": {
      "text/plain": [
       "' For this to work add [0] into mat and jt. mat = args[0][0], jt = args[0][1]'"
      ]
     },
     "execution_count": 18,
     "metadata": {},
     "output_type": "execute_result"
    }
   ],
   "source": [
    "#Test Log-likeihood Function\n",
    "#Disabled Unless needed\n",
    "''' For this to work add [0] into mat and jt. mat = args[0][0], jt = args[0][1]'''\n",
    "\n",
    "#loglikHawkes([20,0.9,0.9] , [20, simFracHawkes_elapsed(20 , 1, 0.9, 0.9)])"
   ]
  },
  {
   "cell_type": "code",
   "execution_count": 19,
   "metadata": {},
   "outputs": [
    {
     "name": "stdout",
     "output_type": "stream",
     "text": [
      "Simulated Jumps of Fractional Hawkes [ 0.31721006  0.52955251  0.553628    1.20206725  1.31254832  1.36073854\n",
      "  3.13461519  3.63402221  4.95037878  5.17288019  5.25451323  5.64547054\n",
      "  5.93285613  6.86701087  6.86789968  6.88929626  7.13181066  7.36332203\n",
      "  8.33601256  8.39905604  9.43276345 10.70203205 11.10125623 11.10788523\n",
      " 11.2526167  11.27698532 11.67274879 11.71059236 11.79163429 11.82558841\n",
      " 11.93734441 11.94034879 12.06326839 12.10895103 12.33326281 12.40162808\n",
      " 12.64906119 13.08711842 13.90453929 14.28813273 14.31648615 14.37484426\n",
      " 15.35976674 15.66972684 15.95221009 16.04612045 16.39611199 16.39615387\n",
      " 17.47075526 17.6960583  17.88962404 18.43957891 18.64655863 19.17934756\n",
      " 19.37564359 19.91974638 20.49998952 21.81312585 21.83071138 22.03935288\n",
      " 22.26336522 22.28837595 22.30279119 22.68062965 22.77222343 22.79422315\n",
      " 23.23435109 23.43482785 23.51007855 23.93770077 23.99992871 24.05381108\n",
      " 24.05734068 24.06796551 24.17375212 24.19825099 24.20977676 24.22529028\n",
      " 24.31706405 24.38220609 24.48430558 24.56015284 24.60175336 24.60249397\n",
      " 24.72008053 24.79952055 24.81536823 24.86889811 24.94548784 25.02374776\n",
      " 25.05595223 25.05643034 25.08534525 25.08934354 25.09590403 25.30082432\n",
      " 25.30446951 25.38682069 25.65870689 25.67715858 26.03258367 26.27439019\n",
      " 26.29151984 26.30463521 26.30473606 26.31638402 26.37447939 26.58297056\n",
      " 26.59337671 26.61399486 26.62276015 26.88001514 27.2208267  27.45273987\n",
      " 27.54002428 27.69228181 27.94710534 27.99277159 28.09238503 28.12111664\n",
      " 28.66843423 28.84818283 29.0941837  29.29913985 29.35886376 29.40260832\n",
      " 29.42389448 29.45850934 29.49366053 29.50251782 29.50772006 29.59354172\n",
      " 29.73339144 29.91105259]\n",
      "Number of Jumps 134\n"
     ]
    }
   ],
   "source": [
    "#Run MLE for Fractional Hawkes\n",
    "#Parameters\n",
    "''' simFracHawkes_elapsed(mat, a, beta, alpha) '''\n",
    "mat = 30\n",
    "a = 1\n",
    "mu = 1\n",
    "beta = 0.7\n",
    "alpha = 0.9\n",
    "jt = simFracHawkes_elapsed(30, 1, 0.7, 0.9)\n",
    "\n",
    "print (\"Simulated Jumps of Fractional Hawkes\", jt)\n",
    "print (\"Number of Jumps\", len(jt))"
   ]
  },
  {
   "cell_type": "code",
   "execution_count": 20,
   "metadata": {},
   "outputs": [
    {
     "name": "stderr",
     "output_type": "stream",
     "text": [
      "C:\\Users\\tomic\\Anaconda3\\lib\\site-packages\\ipykernel_launcher.py:12: RuntimeWarning: invalid value encountered in log\n",
      "  if sys.path[0] == '':\n"
     ]
    }
   ],
   "source": [
    "#Minimization to return parameters \n",
    "res = minimize(loglikHawkes, np.array([1, 0.7, 0.9]),args = (mat,jt), method = 'Nelder-Mead', options={'maxiter':30})"
   ]
  },
  {
   "cell_type": "code",
   "execution_count": 21,
   "metadata": {},
   "outputs": [
    {
     "name": "stdout",
     "output_type": "stream",
     "text": [
      "[1.42757684 0.35292314 0.19210238]\n",
      "1 0.9 0.7\n"
     ]
    }
   ],
   "source": [
    "print(res.x)\n",
    "print(mu,alpha,beta)"
   ]
  },
  {
   "cell_type": "markdown",
   "metadata": {},
   "source": [
    "## Metropolitan-Hastings Algorithm "
   ]
  },
  {
   "cell_type": "code",
   "execution_count": 22,
   "metadata": {},
   "outputs": [
    {
     "ename": "NameError",
     "evalue": "name 'evaluateLogLikelihood' is not defined",
     "output_type": "error",
     "traceback": [
      "\u001b[1;31m---------------------------------------------------------------------------\u001b[0m",
      "\u001b[1;31mNameError\u001b[0m                                 Traceback (most recent call last)",
      "\u001b[1;32m<ipython-input-22-fe13602caf00>\u001b[0m in \u001b[0;36m<module>\u001b[1;34m\u001b[0m\n\u001b[0;32m     10\u001b[0m \u001b[1;32mfor\u001b[0m \u001b[0mn\u001b[0m \u001b[1;32min\u001b[0m \u001b[0mrange\u001b[0m\u001b[1;33m(\u001b[0m\u001b[1;36m10000\u001b[0m\u001b[1;33m)\u001b[0m\u001b[1;33m:\u001b[0m\u001b[1;33m\u001b[0m\u001b[1;33m\u001b[0m\u001b[0m\n\u001b[0;32m     11\u001b[0m     \u001b[0mold_beta\u001b[0m  \u001b[1;33m=\u001b[0m \u001b[0mA\u001b[0m\u001b[1;33m[\u001b[0m\u001b[0mlen\u001b[0m\u001b[1;33m(\u001b[0m\u001b[0mA\u001b[0m\u001b[1;33m)\u001b[0m\u001b[1;33m-\u001b[0m\u001b[1;36m1\u001b[0m\u001b[1;33m]\u001b[0m  \u001b[1;31m# old parameters value as array (the guess)\u001b[0m\u001b[1;33m\u001b[0m\u001b[1;33m\u001b[0m\u001b[0m\n\u001b[1;32m---> 12\u001b[1;33m     \u001b[0mold_loglik\u001b[0m \u001b[1;33m=\u001b[0m \u001b[0mevaluateLogLikelihood\u001b[0m\u001b[1;33m(\u001b[0m\u001b[0mold_beta\u001b[0m\u001b[1;33m)\u001b[0m\u001b[1;33m\u001b[0m\u001b[1;33m\u001b[0m\u001b[0m\n\u001b[0m\u001b[0;32m     13\u001b[0m \u001b[1;33m\u001b[0m\u001b[0m\n\u001b[0;32m     14\u001b[0m     \u001b[1;31m# Suggest new candidate from Gaussian proposal distribution(Uniform)\u001b[0m\u001b[1;33m\u001b[0m\u001b[1;33m\u001b[0m\u001b[1;33m\u001b[0m\u001b[0m\n",
      "\u001b[1;31mNameError\u001b[0m: name 'evaluateLogLikelihood' is not defined"
     ]
    }
   ],
   "source": [
    "# initial guess for our parameters\n",
    "guess = [1.0, 1.0, 1.0]\n",
    "# Prepare storing MCMC chain as array of arrays\n",
    "A = [guess]\n",
    "# define stepsize of MCMC (The smaller the better but remember limitations of PC)\n",
    "stepsizes = [0.005, 0.005, 0.005]  # array of stepsizes\n",
    "accepted  = 0.0\n",
    "\n",
    "# Metropolis-Hastings with 10,000 iterations (Bigger is better but shit PC)\n",
    "for n in range(10000):\n",
    "    old_beta  = A[len(A)-1]  # old parameters value as array (the guess)\n",
    "    old_loglik = evaluateLogLikelihood(old_beta)\n",
    "    \n",
    "    # Suggest new candidate from Gaussian proposal distribution(Uniform) \n",
    "    # Or a normal distribution or improper prior\n",
    "    new_beta = np.zeros([len(old_beta)])\n",
    "    for i in range(len(old_beta)):\n",
    "    \n",
    "        # Use stepsize provided for every dimension\n",
    "        new_beta[i] = random.gauss(old_beta[i], stepsizes[i])\n",
    "    new_loglik = evaluateLogLikelihood(new_beta)\n",
    "    \n",
    "    # Accept new candidate\n",
    "    if (new_loglik > old_loglik):\n",
    "        A.append(new_beta)\n",
    "        accepted = accepted + 1.0  # monitor acceptance\n",
    "    else:\n",
    "        u = random.uniform(0.0,1.0)\n",
    "        if (u < math.exp(new_loglik - old_loglik)):\n",
    "            A.append(new_alpha)\n",
    "            accepted = accepted + 1.0  # monitor acceptance\n",
    "        else:\n",
    "            A.append(old_)\n",
    "\n",
    "print(\"Acceptance rate = \" + str(accepted/10000.0))\n",
    "\n",
    "# RESULTS\n",
    "# Discard first half or whatever portion of MCMC chain and thin out the rest.(BURN IN)\n",
    "mu_estimate = []\n",
    "beta_estimate = []\n",
    "alpha_estimate = []\n",
    "\n",
    "for n in range(5000,10000):\n",
    "    if (n % 10 == 0):\n",
    "        mu_estimate.append(A[n][0])\n",
    "        beta_estimate.append(A[n][1])\n",
    "        alpha_estimate.append(A[n][2])\n",
    "\n",
    "\n",
    "# Print Monte-Carlo estimate of parameters\n",
    "print(\"Mu mean:  \"+str(np.mean(sigma2_estimate)))\n",
    "print(\"Mu std: \"+str(np.std(sigma2_estimate)))\n",
    "\n",
    "print(\"beta:  \"+str(np.mean(alpha_estimate)))\n",
    "print(\"beta std: \"+str(np.std(alpha_estimate)))\n",
    "\n",
    "print(\"alpha mean:  \"+str(np.mean(beta_estimate)))\n",
    "print(\"alpha std: \"+str(np.std(beta_estimate)))\n",
    "\n",
    "plt.hist(mu_estimate, 20, lw=3)\n",
    "plt.hist(beta_estimate, 20, lw=3)\n",
    "plt.hist(alpha_estimate, 20, lw=3)"
   ]
  }
 ],
 "metadata": {
  "kernelspec": {
   "display_name": "Python 3",
   "language": "python",
   "name": "python3"
  },
  "language_info": {
   "codemirror_mode": {
    "name": "ipython",
    "version": 3
   },
   "file_extension": ".py",
   "mimetype": "text/x-python",
   "name": "python",
   "nbconvert_exporter": "python",
   "pygments_lexer": "ipython3",
   "version": "3.7.4"
  }
 },
 "nbformat": 4,
 "nbformat_minor": 4
}
