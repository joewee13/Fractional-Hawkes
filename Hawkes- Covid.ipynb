{
 "cells": [
  {
   "cell_type": "code",
   "execution_count": 1,
   "id": "fcb38e3f",
   "metadata": {},
   "outputs": [],
   "source": [
    "import hawkesbook as hawkes\n",
    "import numpy as np\n",
    "import pandas as pd\n",
    "import matplotlib.pyplot as plt\n",
    "from scipy import stats\n",
    "from statsmodels.graphics.gofplots import qqplot\n",
    "from tqdm import tqdm\n",
    "from numba import njit, prange\n",
    "import numpy.random as rnd\n",
    "from scipy.optimize import fsolve, minimize\n",
    "import numpy.random as rnd\n",
    "from tqdm import tqdm\n",
    "\n",
    "from numpy.testing import assert_allclose\n"
   ]
  },
  {
   "cell_type": "code",
   "execution_count": 2,
   "id": "89a404ae",
   "metadata": {},
   "outputs": [
    {
     "name": "stdout",
     "output_type": "stream",
     "text": [
      "[ 0.87461629  5.45967488 21.49146196 28.68843833 35.6076635  41.99065897\n",
      " 46.67879721 49.77768007 51.79555761 52.72471855]\n",
      "Testing log likelihoods\n",
      "Passed! Exp version = -100.5259230158199 == general version = -100.5259230158199\n"
     ]
    }
   ],
   "source": [
    "#Parameters\n",
    "empMean, empVar, empAutoCov = hawkes.empirical_moments([1, 2, 2.1, 2.3, 4.5, 9.9], T=10, τ=2, lag=1)\n",
    "assert min(empMean, empVar) > 0\n",
    "\n",
    "assert hawkes.hawkes_intensity(1, [], [1, None, None]) == 1\n",
    "assert hawkes.hawkes_intensity(2, [1], [1, lambda x: np.exp(-x), None]) == 1 + np.exp(-1)\n",
    "\n",
    "assert hawkes.exp_hawkes_intensity(1, [0.5], [1.0, 2.0, 3.0]) == hawkes.hawkes_intensity(1, [0.5], (1, lambda t: 2*np.exp(-3*t), None))\n",
    "\n",
    "testα = 3\n",
    "testβ = 4\n",
    "testμ = lambda x: testα*np.exp(-testβ * x)\n",
    "testM = lambda t: (testα/testβ) * (1 - np.exp(-testβ*t))\n",
    "\n",
    "testα = testβ = 1\n",
    "testμ = lambda x: testα*np.exp(-testβ * x)\n",
    "testM = lambda t: (testα/testβ) * (1 - np.exp(-testβ*t))\n",
    "\n",
    "rnd.seed(1)\n",
    "simTimes = hawkes.simulate_inverse_compensator([1, testμ, testM], hawkes.hawkes_compensator, 10)\n",
    "print(simTimes)\n",
    "\n",
    "print(\"Testing log likelihoods\")\n",
    "testObs = np.array([0.5, 0.75])\n",
    "testT = 100\n",
    "test𝛉 = np.array([1, 1, 2])\n",
    "assert hawkes.exp_log_likelihood(testObs, testT, test𝛉) == hawkes.log_likelihood(testObs, testT, test𝛉,\n",
    "    hawkes.exp_hawkes_intensity, hawkes.exp_hawkes_compensator)\n",
    "\n",
    "assert_allclose(hawkes.exp_log_likelihood(testObs, testT, test𝛉),\n",
    "               hawkes.log_likelihood(testObs, testT, test𝛉, hawkes.exp_hawkes_intensity, hawkes.exp_hawkes_compensator),\n",
    "               0.1)\n",
    "\n",
    "print(f\"Passed! Exp version = {hawkes.exp_log_likelihood(testObs, testT, test𝛉)} == general version = {hawkes.log_likelihood(testObs, testT, test𝛉, hawkes.exp_hawkes_intensity, hawkes.exp_hawkes_compensator)}\")\n"
   ]
  },
  {
   "cell_type": "code",
   "execution_count": 3,
   "id": "647f48e2",
   "metadata": {},
   "outputs": [
    {
     "name": "stderr",
     "output_type": "stream",
     "text": [
      "100%|██████████| 1000/1000 [00:00<00:00, 3971.66it/s]\n",
      "  0%|          | 0/10000 [00:00<?, ?it/s]"
     ]
    },
    {
     "name": "stdout",
     "output_type": "stream",
     "text": [
      "Over [0, 100] we had 1000.0 arrivals on average by composition method\n"
     ]
    },
    {
     "name": "stderr",
     "output_type": "stream",
     "text": [
      "100%|██████████| 10000/10000 [00:02<00:00, 4086.98it/s]\n",
      "  0%|          | 0/1000 [00:00<?, ?it/s]"
     ]
    },
    {
     "name": "stdout",
     "output_type": "stream",
     "text": [
      "Over [0, 100] we had 3001.6727 arrivals on average by alternative composition method\n"
     ]
    },
    {
     "name": "stderr",
     "output_type": "stream",
     "text": [
      "100%|██████████| 1000/1000 [00:00<00:00, 1940.02it/s]\n",
      "  0%|          | 0/10 [00:00<?, ?it/s]C:\\Users\\leey79\\Anaconda3\\lib\\site-packages\\scipy\\optimize\\minpack.py:175: RuntimeWarning: The iteration is not making good progress, as measured by the \n",
      "  improvement from the last ten iterations.\n",
      "  warnings.warn(msg, RuntimeWarning)\n"
     ]
    },
    {
     "name": "stdout",
     "output_type": "stream",
     "text": [
      "Over [0, 100] we had 2997.004 arrivals on average by thinning method\n"
     ]
    },
    {
     "name": "stderr",
     "output_type": "stream",
     "text": [
      " 20%|██        | 2/10 [00:20<01:21, 10.18s/it]<ipython-input-3-386131e88a40>:29: RuntimeWarning: overflow encountered in exp\n",
      "  testM = lambda t: (testα/testβ) * (1 - np.exp(-testβ*t))\n",
      "100%|██████████| 10/10 [01:17<00:00,  7.71s/it]\n"
     ]
    },
    {
     "name": "stdout",
     "output_type": "stream",
     "text": [
      "Over [0, 100] we had 400.7 arrivals on average by inverse compensator method\n",
      "Testing log likelihoods on larger sample (of size 3171)\n",
      "Exp version = 1272.6547106332969 == general version = 1272.6547106333023\n"
     ]
    },
    {
     "name": "stderr",
     "output_type": "stream",
     "text": [
      "  0%|          | 0/10 [00:00<?, ?it/s]"
     ]
    },
    {
     "name": "stdout",
     "output_type": "stream",
     "text": [
      "Passed!\n",
      "[ 0.32565403  4.03761246 11.57817107]\n",
      "Testing EM algorithm\n"
     ]
    },
    {
     "name": "stderr",
     "output_type": "stream",
     "text": [
      "100%|██████████| 10/10 [00:04<00:00,  2.15it/s]"
     ]
    },
    {
     "name": "stdout",
     "output_type": "stream",
     "text": [
      "0.44704933808934105 1.0007342034377777 7.796046184269571\n",
      "0.48231233539097457 2.156074051029627 8.537073271663612\n",
      "0.4356061019096442 2.9590164958781404 8.636260877107658\n",
      "0.40932793173954757 3.3338146522394907 8.660619152151655\n",
      "0.39940236804009 3.4721618664958314 8.668567136183254\n",
      "0.39607728388870306 3.5185845622087424 8.67120297098642\n",
      "0.39500238552196465 3.533635645526565 8.672059946158697\n",
      "0.39465847161388296 3.538458599689333 8.672335224573061\n",
      "0.3945487648465509 3.539998061662045 8.672423192636249\n",
      "0.39451379964426597 3.540488825413913 8.67245124855996\n",
      "(array([0.3945138 , 3.54048883, 8.67245125]), array([-6.44934898, -4.79448244, -4.44257839, -4.33275814, -4.3119349 ,\n",
      "       -4.30925345, -4.30895862, -4.30892792, -4.30892478, -4.30892446]))\n"
     ]
    },
    {
     "name": "stderr",
     "output_type": "stream",
     "text": [
      "\n"
     ]
    }
   ],
   "source": [
    "# Test simulation methods for exponential case\n",
    "sim𝛉 = np.array([1, 2, 3])\n",
    "testT = 1000\n",
    "\n",
    "hawkes.numba_seed(1)\n",
    "N_T = []\n",
    "max_t = []\n",
    "for r in tqdm(range(1000)):\n",
    "    times = hawkes.exp_simulate_by_composition(sim𝛉, 1000)\n",
    "    N_T.append(len(times[times < testT]))\n",
    "    max_t.append(times[-1])\n",
    "print(f\"Over [0, 100] we had {np.mean(N_T)} arrivals on average by composition method\")\n",
    "\n",
    "hawkes.numba_seed(1)\n",
    "N_T = []\n",
    "for r in tqdm(range(10000)):\n",
    "    N_T.append(len(hawkes.exp_simulate_by_composition_alt(sim𝛉, testT)))\n",
    "print(f\"Over [0, 100] we had {np.mean(N_T)} arrivals on average by alternative composition method\")\n",
    "\n",
    "\n",
    "hawkes.numba_seed(1)\n",
    "N_T = []\n",
    "for r in tqdm(range(1000)):\n",
    "    N_T.append(len(hawkes.exp_simulate_by_thinning(sim𝛉, testT)))\n",
    "print(f\"Over [0, 100] we had {np.mean(N_T)} arrivals on average by thinning method\")\n",
    "\n",
    "testλ, testα, testβ = sim𝛉\n",
    "testμ = lambda x: testα*np.exp(-testβ * x)\n",
    "testM = lambda t: (testα/testβ) * (1 - np.exp(-testβ*t))\n",
    "\n",
    "rnd.seed(1)\n",
    "N_T = []\n",
    "max_t = []\n",
    "for r in tqdm(range(10)):\n",
    "    times = hawkes.simulate_inverse_compensator([testλ, testμ, testM], hawkes.hawkes_compensator, 500)\n",
    "    N_T.append(len(times[times < testT]))\n",
    "    max_t.append(times[-1])\n",
    "print(f\"Over [0, 100] we had {np.mean(N_T)} arrivals on average by inverse compensator method\")\n",
    "\n",
    "hawkes.numba_seed(1)\n",
    "\n",
    "sim𝛉 = np.array([1, 2, 3])\n",
    "\n",
    "testT = 1000\n",
    "testObs = hawkes.exp_simulate_by_thinning(sim𝛉, testT)\n",
    "print(f\"Testing log likelihoods on larger sample (of size {len(testObs)})\")\n",
    "\n",
    "print(f\"Exp version = {hawkes.exp_log_likelihood(testObs, testT, test𝛉)} == general version = {hawkes.log_likelihood(testObs, testT, test𝛉, hawkes.exp_hawkes_intensity, hawkes.exp_hawkes_compensator)}\")\n",
    "\n",
    "assert_allclose(hawkes.exp_log_likelihood(testObs, testT, test𝛉),\n",
    "               hawkes.log_likelihood(testObs, testT, test𝛉, hawkes.exp_hawkes_intensity, hawkes.exp_hawkes_compensator),\n",
    "               0.1)\n",
    "print(\"Passed!\")\n",
    "\n",
    "testMean, testVar, testAutoCov = testMoments = hawkes.exp_moments([1, 2, 3], τ=2, lag=1)\n",
    "assert min(testMean, testVar) > 0\n",
    "\n",
    "assert hawkes.exp_gmm_loss(np.array([1.0, 2.0, 3.0]), 2, 1, testMoments + 2, np.eye(3)) == 12.0\n",
    "\n",
    "print(hawkes.exp_gmm(np.array([1.0, 1.1, 1.2, 5.0]), 10, 2, 1))\n",
    "\n",
    "print(\"Testing EM algorithm\")\n",
    "print(hawkes.exp_em(np.array([1.0, 1.1, 1.2, 5.0]), 6.0, np.array([1.0, 2.0, 3.0]), 10, 1, True))\n",
    "\n",
    "fit = hawkes.exp_mle(np.array([1.0, 1.1, 1.2, 5.0]), 10)"
   ]
  },
  {
   "cell_type": "code",
   "execution_count": 4,
   "id": "bd7a6209",
   "metadata": {},
   "outputs": [],
   "source": [
    "# Calculate each arrival as a (fractional) number of days since the\n",
    "# beginning of the observation period\n",
    "#timeToQuake = quakes.index - pd.Timestamp(\"1/1/1973\")\n",
    "#ts = np.array(timeToQuake.total_seconds() / 60 / 60 / 24)\n",
    "\n",
    "# Calculate the length of the observation period\n",
    "#obsPeriod = pd.Timestamp(\"31/12/2020\") - pd.Timestamp(\"1/1/1973\")\n",
    "#T = obsPeriod.days\n"
   ]
  },
  {
   "cell_type": "code",
   "execution_count": 5,
   "id": "9d6ed74b",
   "metadata": {},
   "outputs": [
    {
     "name": "stdout",
     "output_type": "stream",
     "text": [
      "Exp Hawkes MLE fit:  [0.97746491 2.04235149 2.95228933]\n",
      "Exp Hawkes EM fit:  [0.97746491 2.04235149 2.95228933]\n",
      "EM was a better fit than MLE in this case\n",
      "The exponentially-decaying Hawkes was the better fit with BIC=-2746.20.\n",
      "The power-law Hawkes had BIC=-2733.42.\n",
      "Ground truth = (1, 2, 3)\n"
     ]
    },
    {
     "data": {
      "image/png": "[encoded data removed]",
      "text/plain": [
       "<Figure size 432x288 with 1 Axes>"
      ]
     },
     "metadata": {
      "needs_background": "light"
     },
     "output_type": "display_data"
    }
   ],
   "source": [
    "# Calculate the maximum likelihood estimate for the Hawkes process\n",
    "# with an exponentially decaying intensity\n",
    "𝛉_exp_mle = hawkes.exp_mle(testObs, testT)\n",
    "print(\"Exp Hawkes MLE fit: \", 𝛉_exp_mle)\n",
    "\n",
    "# Calculate the EM estimate or the same type of Hawkes process\n",
    "𝛉_exp_em = hawkes.exp_em(testObs, testT, iters=100)\n",
    "print(\"Exp Hawkes EM fit: \", 𝛉_exp_mle)\n",
    "\n",
    "# Get the likelihoods of each fit to find the better one\n",
    "ll_mle = hawkes.exp_log_likelihood(testObs, testT, 𝛉_exp_mle)\n",
    "ll_em = hawkes.exp_log_likelihood(testObs, testT, 𝛉_exp_em)\n",
    "\n",
    "if ll_mle > ll_em:\n",
    "    print(\"MLE was a better fit than EM in this case\")\n",
    "    𝛉_exp = 𝛉_exp_mle\n",
    "    ll_exp = ll_mle\n",
    "else:\n",
    "    print(\"EM was a better fit than MLE in this case\")\n",
    "    𝛉_exp = 𝛉_exp_em\n",
    "    ll_exp = ll_em\n",
    "\n",
    "# Fit instead the Hawkes with a power-law decay\n",
    "𝛉_pl = hawkes.power_mle(testObs, testT)\n",
    "ll_pl = hawkes.power_log_likelihood(testObs, testT, 𝛉_pl)\n",
    "\n",
    "# Compare the BICs\n",
    "#put len() for testT if it is an array\n",
    "BIC_exp = 3 * np.log(testT) - 2 * ll_exp\n",
    "BIC_pl = 4 * np.log(testT) - 2 * ll_pl\n",
    "if BIC_exp < BIC_pl:\n",
    "    print(f\"The exponentially-decaying Hawkes was the better fit with BIC={BIC_exp:.2f}.\")\n",
    "    print(f\"The power-law Hawkes had BIC={BIC_pl:.2f}.\")\n",
    "else:\n",
    "    print(f\"The power-law Hawkes was the better fit with BIC={BIC_pl:.2f}.\")\n",
    "    print(f\"The exponentially-decaying Hawkes had BIC={BIC_exp:.2f}.\")\n",
    "\n",
    "# Create a Q-Q plot for the exponential-decay fit by\n",
    "# first transforming the points to a unit-rate Poisson\n",
    "# process as outlined by the random time change theorem\n",
    "print(f\"Ground truth = {testλ, testα, testβ }\")\n",
    "tsShifted = hawkes.exp_hawkes_compensators(testObs, 𝛉_exp)\n",
    "iat = np.diff(np.insert(tsShifted, 0, 0))\n",
    "qqplot(iat, dist=stats.expon, fit=False, line=\"45\")\n",
    "plt.show()"
   ]
  },
  {
   "cell_type": "code",
   "execution_count": 65,
   "id": "1de6cf0f",
   "metadata": {},
   "outputs": [
    {
     "name": "stdout",
     "output_type": "stream",
     "text": [
      "GMM test:\n",
      "[1. 2. 3.]\n"
     ]
    }
   ],
   "source": [
    "print(f'GMM test:')\n",
    "print(hawkes.exp_gmm(testObs, 10, 200, 1))"
   ]
  },
  {
   "cell_type": "code",
   "execution_count": 68,
   "id": "5da51d5f",
   "metadata": {},
   "outputs": [
    {
     "name": "stdout",
     "output_type": "stream",
     "text": [
      "[array([33.33895735, 26.24865433,  0.81386071]), array([0.56180695, 5.84397244, 6.73154033]), array([ 1.37921953, 29.84827749, 44.91744335]), array([ 0.47513531, 33.55235072, 37.77666015]), array([1., 2., 3.]), array([1., 2., 3.]), array([1., 2., 3.]), array([1., 2., 3.]), array([1., 2., 3.]), array([1., 2., 3.]), array([1., 2., 3.]), array([1., 2., 3.]), array([1., 2., 3.]), array([1., 2., 3.]), array([1., 2., 3.]), array([1., 2., 3.]), array([1., 2., 3.]), array([1., 2., 3.]), array([1., 2., 3.]), array([1., 2., 3.]), array([1., 2., 3.]), array([1., 2., 3.]), array([1., 2., 3.]), array([1., 2., 3.]), array([1., 2., 3.]), array([1., 2., 3.]), array([1., 2., 3.]), array([1., 2., 3.]), array([1., 2., 3.]), array([1., 2., 3.]), array([1., 2., 3.]), array([1., 2., 3.]), array([1., 2., 3.]), array([1., 2., 3.]), array([1., 2., 3.]), array([1., 2., 3.]), array([1., 2., 3.]), array([1., 2., 3.]), array([1., 2., 3.]), array([1., 2., 3.]), array([1., 2., 3.]), array([1., 2., 3.]), array([1., 2., 3.]), array([1., 2., 3.]), array([1., 2., 3.]), array([1., 2., 3.]), array([1., 2., 3.]), array([1., 2., 3.]), array([1., 2., 3.]), array([1., 2., 3.]), array([1., 2., 3.]), array([1., 2., 3.]), array([1., 2., 3.]), array([1., 2., 3.]), array([1., 2., 3.]), array([1., 2., 3.]), array([1., 2., 3.]), array([1., 2., 3.]), array([1., 2., 3.]), array([1., 2., 3.]), array([1., 2., 3.]), array([1., 2., 3.]), array([1., 2., 3.]), array([1., 2., 3.]), array([1., 2., 3.]), array([1., 2., 3.]), array([1., 2., 3.]), array([1., 2., 3.]), array([1., 2., 3.]), array([1., 2., 3.]), array([1., 2., 3.]), array([1., 2., 3.]), array([1., 2., 3.]), array([1., 2., 3.]), array([1., 2., 3.]), array([1., 2., 3.]), array([1., 2., 3.]), array([1., 2., 3.]), array([1., 2., 3.]), array([1., 2., 3.]), array([1., 2., 3.]), array([1., 2., 3.]), array([1., 2., 3.]), array([1., 2., 3.]), array([1., 2., 3.]), array([1., 2., 3.]), array([1., 2., 3.]), array([1., 2., 3.]), array([1., 2., 3.]), array([1., 2., 3.]), array([1., 2., 3.]), array([1., 2., 3.]), array([1., 2., 3.]), array([1., 2., 3.]), array([1., 2., 3.]), array([1., 2., 3.]), array([1., 2., 3.]), array([1., 2., 3.]), array([1., 2., 3.]), array([1., 2., 3.]), array([1., 2., 3.]), array([1., 2., 3.]), array([1., 2., 3.]), array([1., 2., 3.]), array([1., 2., 3.]), array([1., 2., 3.]), array([1., 2., 3.]), array([1., 2., 3.]), array([1., 2., 3.]), array([1., 2., 3.]), array([1., 2., 3.]), array([1., 2., 3.]), array([1., 2., 3.]), array([1., 2., 3.]), array([1., 2., 3.]), array([1., 2., 3.]), array([1., 2., 3.]), array([1., 2., 3.]), array([1., 2., 3.]), array([1., 2., 3.]), array([1., 2., 3.]), array([1., 2., 3.]), array([1., 2., 3.]), array([1., 2., 3.]), array([1., 2., 3.]), array([1., 2., 3.]), array([1., 2., 3.]), array([1., 2., 3.]), array([1., 2., 3.]), array([1., 2., 3.]), array([1., 2., 3.]), array([1., 2., 3.]), array([1., 2., 3.]), array([1., 2., 3.]), array([1., 2., 3.]), array([1., 2., 3.]), array([1., 2., 3.]), array([1., 2., 3.]), array([1., 2., 3.]), array([1., 2., 3.]), array([1., 2., 3.]), array([1., 2., 3.]), array([1., 2., 3.]), array([1., 2., 3.]), array([1., 2., 3.]), array([1., 2., 3.]), array([1., 2., 3.]), array([1., 2., 3.]), array([1., 2., 3.]), array([1., 2., 3.]), array([1., 2., 3.]), array([1., 2., 3.]), array([1., 2., 3.]), array([1., 2., 3.]), array([1., 2., 3.]), array([1., 2., 3.]), array([1., 2., 3.]), array([1., 2., 3.]), array([1., 2., 3.]), array([1., 2., 3.]), array([1., 2., 3.]), array([1., 2., 3.]), array([1., 2., 3.]), array([1., 2., 3.]), array([1., 2., 3.]), array([1., 2., 3.]), array([1., 2., 3.]), array([1., 2., 3.]), array([1., 2., 3.]), array([1., 2., 3.]), array([1., 2., 3.]), array([1., 2., 3.]), array([1., 2., 3.]), array([1., 2., 3.]), array([1., 2., 3.]), array([1., 2., 3.]), array([1., 2., 3.]), array([1., 2., 3.]), array([1., 2., 3.]), array([1., 2., 3.]), array([1., 2., 3.]), array([1., 2., 3.]), array([1., 2., 3.]), array([1., 2., 3.]), array([1., 2., 3.]), array([1., 2., 3.]), array([1., 2., 3.]), array([1., 2., 3.]), array([1., 2., 3.]), array([1., 2., 3.]), array([1., 2., 3.]), array([1., 2., 3.]), array([1., 2., 3.]), array([1., 2., 3.]), array([1., 2., 3.]), array([1., 2., 3.]), array([1., 2., 3.]), array([1., 2., 3.]), array([1., 2., 3.])]\n"
     ]
    }
   ],
   "source": [
    "#Plot mean square error with estimated parameters with the function tau\n",
    "results=[]\n",
    "for t in range (1,200):\n",
    "    res = hawkes.exp_gmm(testObs, 10, t, 1)\n",
    "    results.append(res)\n",
    "\n",
    "print (results)"
   ]
  },
  {
   "cell_type": "code",
   "execution_count": 72,
   "id": "b41382db",
   "metadata": {},
   "outputs": [
    {
     "ename": "TypeError",
     "evalue": "object of type 'int' has no len()",
     "output_type": "error",
     "traceback": [
      "\u001b[1;31m---------------------------------------------------------------------------\u001b[0m",
      "\u001b[1;31mTypeError\u001b[0m                                 Traceback (most recent call last)",
      "\u001b[1;32m<ipython-input-72-06ff76d72c9e>\u001b[0m in \u001b[0;36m<module>\u001b[1;34m\u001b[0m\n\u001b[0;32m      1\u001b[0m \u001b[1;31m# setting the x - coordinates\u001b[0m\u001b[1;33m\u001b[0m\u001b[1;33m\u001b[0m\u001b[1;33m\u001b[0m\u001b[0m\n\u001b[0;32m      2\u001b[0m \u001b[1;32mfor\u001b[0m \u001b[0mt\u001b[0m \u001b[1;32min\u001b[0m \u001b[0mrange\u001b[0m \u001b[1;33m(\u001b[0m\u001b[1;36m1\u001b[0m\u001b[1;33m,\u001b[0m\u001b[1;36m200\u001b[0m\u001b[1;33m)\u001b[0m\u001b[1;33m:\u001b[0m\u001b[1;33m\u001b[0m\u001b[1;33m\u001b[0m\u001b[0m\n\u001b[1;32m----> 3\u001b[1;33m     \u001b[0mx\u001b[0m \u001b[1;33m=\u001b[0m \u001b[0mlen\u001b[0m\u001b[1;33m(\u001b[0m\u001b[0mt\u001b[0m\u001b[1;33m)\u001b[0m\u001b[1;33m\u001b[0m\u001b[1;33m\u001b[0m\u001b[0m\n\u001b[0m\u001b[0;32m      4\u001b[0m \u001b[1;31m# setting the corresponding y - coordinates\u001b[0m\u001b[1;33m\u001b[0m\u001b[1;33m\u001b[0m\u001b[1;33m\u001b[0m\u001b[0m\n\u001b[0;32m      5\u001b[0m \u001b[0my\u001b[0m \u001b[1;33m=\u001b[0m \u001b[0mresults\u001b[0m\u001b[1;33m\u001b[0m\u001b[1;33m\u001b[0m\u001b[0m\n",
      "\u001b[1;31mTypeError\u001b[0m: object of type 'int' has no len()"
     ]
    }
   ],
   "source": [
    "\n",
    "for t in range (1,200):\n",
    "    x = len(t)\n",
    "\n",
    "y = results\n",
    " \n",
    "# plotting the points\n",
    "plt.plot(x, y)\n",
    " \n",
    "# function to show the plot\n",
    "plt.show()"
   ]
  },
  {
   "cell_type": "code",
   "execution_count": 60,
   "id": "69fb10da",
   "metadata": {},
   "outputs": [
    {
     "name": "stdout",
     "output_type": "stream",
     "text": [
      "GMM test:\n",
      "[0.54624616 5.30681296 6.39484284]\n"
     ]
    }
   ],
   "source": [
    "print(f'GMM test:')\n",
    "print(hawkes.exp_gmm(testObs, hawkes.exp_gmm_loss(simθ, 1, 1, hawkes.empirical_moments(0, testT, 20, 1), W) ,2 , 1))"
   ]
  },
  {
   "cell_type": "code",
   "execution_count": null,
   "id": "58d996bc",
   "metadata": {},
   "outputs": [],
   "source": [
    "##Fitting Covid Casses to hawkes"
   ]
  },
  {
   "cell_type": "code",
   "execution_count": null,
   "id": "dfbc6afd",
   "metadata": {},
   "outputs": [],
   "source": [
    "#Using csv file, to determine if covid cases follow a Hawkes distribution\n",
    "cases = pd.read_csv(r\"C:\\Users\\leey79\\Desktop\\Singapore Covid.csv\")\n",
    "\n"
   ]
  },
  {
   "cell_type": "code",
   "execution_count": null,
   "id": "88b252ab",
   "metadata": {},
   "outputs": [],
   "source": [
    "cases.index = pd.to_datetime(cases.Date_reported.astype(str) + cases.Time, Date_reportedfirst=True)\n",
    "cases.sort_index(inplace=True)"
   ]
  },
  {
   "cell_type": "code",
   "execution_count": null,
   "id": "6c3ebfdf",
   "metadata": {},
   "outputs": [],
   "source": [
    "# Calculate each arrival as a (fractional) number of days since the\n",
    "# beginning of the observation period\n",
    "dateofcases = cases.index - Date_reported(\"1/3/2020\")\n",
    "ts = np.array(dailycases.total_cases() / 24)\n"
   ]
  },
  {
   "cell_type": "code",
   "execution_count": null,
   "id": "dc20e66a",
   "metadata": {},
   "outputs": [],
   "source": [
    "# Calculate the length of the observation period\n",
    "obsPeriod = pd.Timestamp(\"31/12/2020\") - pd.Timestamp(\"1/1/1973\")\n",
    "T = obsPeriod.days\n",
    "\n",
    "# Calculate the maximum likelihood estimate for the Hawkes process\n",
    "# with an exponentially decaying intensity\n",
    "theta_exp_mle = hawkes.exp_mle(ts, T)\n",
    "print(\"Exp Hawkes MLE fit: \", theta_exp_mle)\n",
    "\n",
    "# Calculate the EM estimate or the same type of Hawkes process\n",
    "theta_exp_em = hawkes.exp_em(ts, T, iters=100)\n",
    "print(\"Exp Hawkes EM fit: \", theta_exp_mle)\n",
    "\n",
    "# Get the likelihoods of each fit to find the better one\n",
    "ll_mle = hawkes.exp_log_likelihood(ts, T, theta_exp_mle)\n",
    "ll_em = hawkes.exp_log_likelihood(ts, T, theta_exp_em)\n",
    "\n",
    "if ll_mle > ll_em:\n",
    "    print(\"MLE was a better fit than EM in this case\")\n",
    "    theta_exp = theta_exp_mle\n",
    "    ll_exp = ll_mle\n",
    "else:\n",
    "    print(\"EM was a better fit than MLE in this case\")\n",
    "    theta_exp = theta_exp_em\n",
    "    ll_exp = ll_em\n",
    "\n",
    "# Fit instead the Hawkes with a power-law decay\n",
    "theta_pl = hawkes.power_mle(ts, T)\n",
    "ll_pl = hawkes.power_log_likelihood(ts, T, theta_pl)\n",
    "\n",
    "# Compare the BICs\n",
    "BIC_exp = 3 * np.log(len(ts)) - 2 * ll_exp\n",
    "BIC_pl = 4 * np.log(len(ts)) - 2 * ll_pl\n",
    "if BIC_exp < BIC_pl:\n",
    "    print(f\"The exponentially-decaying Hawkes was the better fit with BIC={BIC_exp:.2f}.\")\n",
    "    print(f\"The power-law Hawkes had BIC={BIC_pl:.2f}.\")\n",
    "else:\n",
    "    print(f\"The power-law Hawkes was the better fit with BIC={BIC_pl:.2f}.\")\n",
    "    print(f\"The exponentially-decaying Hawkes had BIC={BIC_exp:.2f}.\")\n",
    "\n",
    "# Create a Q-Q plot for the exponential-decay fit by\n",
    "# first transforming the points to a unit-rate Poisson\n",
    "# process as outlined by the random time change theorem\n",
    "tsShifted = hawkes.exp_hawkes_compensators(ts, theta_exp)\n",
    "iat = np.diff(np.insert(tsShifted, 0, 0))\n",
    "qqplot(iat, dist=stats.expon, fit=False, line=\"45\")\n",
    "plt.show()"
   ]
  }
 ],
 "metadata": {
  "kernelspec": {
   "display_name": "Python 3",
   "language": "python",
   "name": "python3"
  },
  "language_info": {
   "codemirror_mode": {
    "name": "ipython",
    "version": 3
   },
   "file_extension": ".py",
   "mimetype": "text/x-python",
   "name": "python",
   "nbconvert_exporter": "python",
   "pygments_lexer": "ipython3",
   "version": "3.8.8"
  }
 },
 "nbformat": 4,
 "nbformat_minor": 5
}
